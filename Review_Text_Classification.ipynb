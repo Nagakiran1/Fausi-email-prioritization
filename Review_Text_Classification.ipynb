{
 "cells": [
  {
   "cell_type": "code",
   "execution_count": null,
   "metadata": {
    "collapsed": true,
    "scrolled": true
   },
   "outputs": [],
   "source": [
    "import nltk\n",
    "import pandas as pd\n",
    "import re\n",
    "from collections import Counter\n",
    "import time\n",
    "import numpy as np\n",
    "import PyDictionary\n",
    "import warnings\n",
    "warnings.filterwarnings(\"ignore\")"
   ]
  },
  {
   "cell_type": "markdown",
   "metadata": {},
   "source": [
    "### Reading the AmazonLawnAndGardenReviews csv file downloaded from UCI machine learning datasets repository"
   ]
  },
  {
   "cell_type": "code",
   "execution_count": 4,
   "metadata": {
    "scrolled": true
   },
   "outputs": [
    {
     "data": {
      "text/plain": [
       "'Good USA company that stands behind their products. I have had to warranty two hoses and they send replacements right out to you. I had one burst after awhile, you could see it buldge for weeks before it went so no suprises. The other one was winter related as I am bad and leave them out most of the time. Highly reccomend. Note the hundred footer is heavy and like wresting an anaconda when its time to put away, but it does have a far reach.'"
      ]
     },
     "execution_count": 4,
     "metadata": {},
     "output_type": "execute_result"
    }
   ],
   "source": [
    "df=pd.read_csv('AmazonLawnAndGardenReviews.csv',encoding='iso-8859-1')\n",
    "df.reviewText[0]"
   ]
  },
  {
   "cell_type": "markdown",
   "metadata": {},
   "source": [
    "### Objective :\n",
    "####              1) Classifying the Reviews based on sentiment analysis  of each Review words.\n",
    "####              2) Detecting the Root Cause of frequent malfunctioning products and assigning the frequency of occurances.\n",
    "\n",
    "### Analysis :\n",
    "####   1) Classifying the Review :\n",
    "####      I have generated a Word Vector for each word. The Word Vector specifies the closeness and relativeness of word with      all possible sentiments which can be found from Reviews.\n",
    "####   2) Detecting the Root Cause :\n",
    "####      I have created a individual Dictionaries of all Possible verbs which can specifies the Physical state, action and mental   state of a each incident or sentence. \n",
    "####      By considering the negativity  of sentence the all mal functioning and less sentiment reviews will be seperated, From that the action(Verbs) associated with the review will be extracted and from that the Nouns of things will specifies the frequent malfunction products and action verbs specifies the reason behind the mal Function :-)\n"
   ]
  },
  {
   "cell_type": "markdown",
   "metadata": {},
   "source": [
    "### Functions for Preprocessing of Text"
   ]
  },
  {
   "cell_type": "markdown",
   "metadata": {},
   "source": [
    "The Required Preprocessing steps before doing the Analysis on the sentiment of Reviews"
   ]
  },
  {
   "cell_type": "code",
   "execution_count": 5,
   "metadata": {
    "collapsed": true,
    "scrolled": true
   },
   "outputs": [],
   "source": [
    "def Remove_URLs(x):\n",
    "    x = x.split(' ')\n",
    "    x = [i for i in x if not len(re.findall(r'[\\w\\.-]+@[\\w\\.-]+',i))]\n",
    "    x = ' '.join(x)\n",
    "    return x\n",
    "def tokenizing(x):\n",
    "    return nltk.tokenize.word_tokenize(x)\n",
    "def stopwords(x):\n",
    "    stop_words=nltk.corpus.stopwords.words('english')\n",
    "    x=[i for i in x if i not in stop_words]\n",
    "    return x\n",
    "def Lemmatization(x):\n",
    "    lemmatizer=nltk.stem.WordNetLemmatizer()\n",
    "    x = [ lemmatizer.lemmatize(i) for i in x]\n",
    "    return x\n",
    "def Remove_numbers(x):\n",
    "    x = [re.sub('[^A-Z,a-z]+','',i) for i in x]\n",
    "    x = ' '.join(x).lower()\n",
    "    return x\n",
    "\n",
    "   "
   ]
  },
  {
   "cell_type": "code",
   "execution_count": 6,
   "metadata": {
    "scrolled": true
   },
   "outputs": [
    {
     "data": {
      "text/plain": [
       "'good usa company that stands behind their products  i have had to warranty two hoses and they send replacements right out to you  i had one burst after awhile , you could see it buldge for weeks before it went so no suprises  the other one was winter related as i am bad and leave them out most of the time  highly reccomend  note the hundred footer is heavy and like wresting an anaconda when its time to put away , but it does have a far reach '"
      ]
     },
     "execution_count": 6,
     "metadata": {},
     "output_type": "execute_result"
    }
   ],
   "source": [
    "x = df.reviewText\n",
    "Remove_numbers(tokenizing(x[0]))"
   ]
  },
  {
   "cell_type": "code",
   "execution_count": 7,
   "metadata": {
    "collapsed": true,
    "scrolled": true
   },
   "outputs": [],
   "source": [
    "def preprocess(x):\n",
    "\n",
    "    x = Remove_URLs(x)\n",
    "    x = tokenizing(x)\n",
    "    x = stopwords(x)\n",
    "    x = Lemmatization(x)\n",
    "    x = Remove_numbers(x)\n",
    "    return x"
   ]
  },
  {
   "cell_type": "markdown",
   "metadata": {},
   "source": [
    "Text before preprocessing"
   ]
  },
  {
   "cell_type": "code",
   "execution_count": 8,
   "metadata": {
    "scrolled": true
   },
   "outputs": [
    {
     "data": {
      "text/plain": [
       "'Good USA company that stands behind their products. I have had to warranty two hoses and they send replacements right out to you. I had one burst after awhile, you could see it buldge for weeks before it went so no suprises. The other one was winter related as I am bad and leave them out most of the time. Highly reccomend. Note the hundred footer is heavy and like wresting an anaconda when its time to put away, but it does have a far reach.'"
      ]
     },
     "execution_count": 8,
     "metadata": {},
     "output_type": "execute_result"
    }
   ],
   "source": [
    "x=list(df.reviewText)\n",
    "df.reviewText[0]"
   ]
  },
  {
   "cell_type": "markdown",
   "metadata": {},
   "source": [
    "Example Preprcessed Text"
   ]
  },
  {
   "cell_type": "code",
   "execution_count": 7,
   "metadata": {
    "scrolled": true
   },
   "outputs": [
    {
     "data": {
      "text/plain": [
       "'good usa company stand behind product  i warranty two hose send replacement right  i one burst awhile , could see buldge week went suprises  the one winter related i bad leave time  highly reccomend  note hundred footer heavy like wresting anaconda time put away , far reach '"
      ]
     },
     "execution_count": 7,
     "metadata": {},
     "output_type": "execute_result"
    }
   ],
   "source": [
    "preprocess(df.reviewText[0])"
   ]
  },
  {
   "cell_type": "markdown",
   "metadata": {},
   "source": [
    "Preprocessing the whole Text of Reviews"
   ]
  },
  {
   "cell_type": "code",
   "execution_count": 9,
   "metadata": {
    "scrolled": false
   },
   "outputs": [
    {
     "data": {
      "text/plain": [
       "46.58170413970947"
      ]
     },
     "execution_count": 9,
     "metadata": {},
     "output_type": "execute_result"
    }
   ],
   "source": [
    "t1 = time.time()\n",
    "df['Preprocess_Review'] =  df.reviewText.apply(lambda x: preprocess(x) if isinstance(x,str) else ' ')\n",
    "time.time() - t1"
   ]
  },
  {
   "cell_type": "markdown",
   "metadata": {},
   "source": [
    "Extracting feature words from the reviews Text"
   ]
  },
  {
   "cell_type": "code",
   "execution_count": 11,
   "metadata": {
    "scrolled": true
   },
   "outputs": [
    {
     "data": {
      "text/plain": [
       "27.530222415924072"
      ]
     },
     "execution_count": 11,
     "metadata": {},
     "output_type": "execute_result"
    }
   ],
   "source": [
    "t1 = time.time()\n",
    "Word_dict = set()\n",
    "for i in df.Preprocess_Review:\n",
    "    Word_dict |= set(nltk.tokenize.word_tokenize(i))\n",
    "time.time()-t1"
   ]
  },
  {
   "cell_type": "markdown",
   "metadata": {},
   "source": [
    "### Tagging the text with the Parts of speech to differentiate the Verbs and to create features to words"
   ]
  },
  {
   "cell_type": "code",
   "execution_count": 10,
   "metadata": {
    "collapsed": true,
    "scrolled": true
   },
   "outputs": [],
   "source": [
    "Word_tags = pd.DataFrame(nltk.pos_tag(list(Word_dict)))"
   ]
  },
  {
   "cell_type": "markdown",
   "metadata": {},
   "source": [
    "The parts of speech abbrevations to consider"
   ]
  },
  {
   "cell_type": "code",
   "execution_count": 11,
   "metadata": {
    "scrolled": true
   },
   "outputs": [
    {
     "data": {
      "text/plain": [
       "array(['JJ', 'NN', 'VBN', 'NNS', 'VBD', 'RB', 'VBZ', 'VBG', 'RBR', 'VBP',\n",
       "       'VB', 'JJR', 'RBS', 'IN', 'RP', 'JJS', 'NNP', 'FW', 'WP', 'DT',\n",
       "       'PRP', 'CC', 'EX', 'PRP$', 'WDT', 'CD', 'TO', 'WRB', 'MD', 'PDT',\n",
       "       ',', 'WP$'], dtype=object)"
      ]
     },
     "execution_count": 11,
     "metadata": {},
     "output_type": "execute_result"
    }
   ],
   "source": [
    "Word_tags[1].unique()"
   ]
  },
  {
   "cell_type": "markdown",
   "metadata": {},
   "source": [
    "\n",
    "    CC | Coordinating conjunction |\n",
    "    CD | Cardinal number |\n",
    "    DT | Determiner |\n",
    "    EX | Existential there |\n",
    "    FW | Foreign word |\n",
    "    IN | Preposition or subordinating conjunction |\n",
    "    JJ | Adjective |\n",
    "    JJR | Adjective, comparative |\n",
    "    JJS | Adjective, superlative |\n",
    "    LS | List item marker |\n",
    "    MD | Modal |\n",
    "    NN | Noun, singular or mass |\n",
    "    NNS | Noun, plural |\n",
    "    NNP | Proper noun, singular |\n",
    "    NNPS | Proper noun, plural |\n",
    "    PDT | Predeterminer |\n",
    "    POS | Possessive ending |\n",
    "    PRP | Personal pronoun |\n",
    "    PRP$ | Possessive pronoun |\n",
    "    RB | Adverb |\n",
    "    RBR | Adverb, comparative |\n",
    "    RBS | Adverb, superlative |\n",
    "    RP | Particle |\n",
    "    SYM | Symbol |\n",
    "    TO | to |\n",
    "    UH | Interjection |\n",
    "    VB | Verb, base form |\n",
    "    VBD | Verb, past tense |\n",
    "    VBG | Verb, gerund or present participle |\n",
    "    VBN | Verb, past participle |\n",
    "    VBP | Verb, non-3rd person singular present |\n",
    "    VBZ | Verb, 3rd person singular present |\n",
    "    WDT | Wh-determiner |\n",
    "    WP | Wh-pronoun |\n",
    "    WP$ | Possessive wh-pronoun |\n",
    "    WRB | Wh-adverb |\n"
   ]
  },
  {
   "cell_type": "markdown",
   "metadata": {},
   "source": [
    "Extracting the words which gives meaning out of sentence (verbs)"
   ]
  },
  {
   "cell_type": "code",
   "execution_count": 12,
   "metadata": {
    "scrolled": true
   },
   "outputs": [
    {
     "data": {
      "text/plain": [
       "'good usa company stand behind product  i warranty two hose send replacement right  i one burst awhile , could see buldge week went suprises  the one winter related i bad leave time  highly reccomend  note hundred footer heavy like wresting anaconda time put away , far reach '"
      ]
     },
     "execution_count": 12,
     "metadata": {},
     "output_type": "execute_result"
    }
   ],
   "source": [
    "Words_verbs = Word_tags[Word_tags[1].isin(['VB','VBP','VBN','VBZ','RB'])]\n",
    "[i for i in nltk.pos_tag(nltk.tokenize.word_tokenize(df.Preprocess_Review[0])) if i[1] in ['VB','VBP','VBZ','RB','VBN']]\n",
    "df.Preprocess_Review[0]"
   ]
  },
  {
   "cell_type": "markdown",
   "metadata": {},
   "source": [
    "Creating seperate column of preprocess Verbs of each review Sentence"
   ]
  },
  {
   "cell_type": "code",
   "execution_count": 13,
   "metadata": {
    "scrolled": true
   },
   "outputs": [
    {
     "data": {
      "text/plain": [
       "372.6656494140625"
      ]
     },
     "execution_count": 13,
     "metadata": {},
     "output_type": "execute_result"
    }
   ],
   "source": [
    "t1 = time.time()\n",
    "def func(x):\n",
    "    tokens = nltk.pos_tag(nltk.tokenize.word_tokenize(x))\n",
    "    verbs = [i for i in tokens if i[1] in ['VB','VBP','VBZ','RB','VBN']]\n",
    "    return verbs\n",
    "df['Verbs'] = df.Preprocess_Review.apply(lambda x : func(x))\n",
    "time.time()-t1"
   ]
  },
  {
   "cell_type": "markdown",
   "metadata": {},
   "source": [
    "Word categories to differentiate Nouns and Pronouns"
   ]
  },
  {
   "cell_type": "code",
   "execution_count": 14,
   "metadata": {
    "scrolled": true
   },
   "outputs": [
    {
     "data": {
      "text/plain": [
       "['adventure',\n",
       " 'belles_lettres',\n",
       " 'editorial',\n",
       " 'fiction',\n",
       " 'government',\n",
       " 'hobbies',\n",
       " 'humor',\n",
       " 'learned',\n",
       " 'lore',\n",
       " 'mystery',\n",
       " 'news',\n",
       " 'religion',\n",
       " 'reviews',\n",
       " 'romance',\n",
       " 'science_fiction']"
      ]
     },
     "execution_count": 14,
     "metadata": {},
     "output_type": "execute_result"
    }
   ],
   "source": [
    "nltk.corpus.brown.categories()"
   ]
  },
  {
   "cell_type": "code",
   "execution_count": 15,
   "metadata": {
    "scrolled": true
   },
   "outputs": [
    {
     "data": {
      "text/plain": [
       "['Dan', 'Morgan', 'told', 'himself', 'he', 'would', ...]"
      ]
     },
     "execution_count": 15,
     "metadata": {},
     "output_type": "execute_result"
    }
   ],
   "source": [
    "nltk.corpus.brown.words(categories='adventure')"
   ]
  },
  {
   "cell_type": "code",
   "execution_count": 7,
   "metadata": {
    "scrolled": true
   },
   "outputs": [
    {
     "data": {
      "text/plain": [
       "'Good USA company that stands behind their products. I have had to warranty two hoses and they send replacements right out to you. I had one burst after awhile, you could see it buldge for weeks before it went so no suprises. The other one was winter related as I am bad and leave them out most of the time. Highly reccomend. Note the hundred footer is heavy and like wresting an anaconda when its time to put away, but it does have a far reach.'"
      ]
     },
     "execution_count": 7,
     "metadata": {},
     "output_type": "execute_result"
    }
   ],
   "source": [
    "x[0]"
   ]
  },
  {
   "cell_type": "markdown",
   "metadata": {},
   "source": [
    "## Types of Verbs\n",
    "the main categories of physical verbs, mental verbs, and state of being verbs, there are several other types of verbs. In fact, there are more than ten different types of verbs that are grouped by function.\n",
    "\n",
    "\n",
    "### List of all Verb Types\n",
    "\n",
    "### Action Verbs\n",
    "Action verbs express specific actions, and are used any time you want to show action or discuss someone doing something.\n",
    "\n",
    "### Transitive Verbs\n",
    "Transitive verbs are action verbs that always express doable activities. These verbs always have direct objects, meaning someone or something receives the action of the verb.\n",
    "\n",
    "### Intransitive Verbs\n",
    "Intransitive verbs are action verbs that always express doable activities. No direct object follows an intransitive verb.\n",
    "\n",
    "### Auxiliary Verbs\n",
    "Auxiliary verbs are also known as helping verbs, and are used together with a main verb to show the verb’s tense or to form a question or negative.\n",
    "\n",
    "### Stative Verbs\n",
    "Stative verbs can be recognized because they express a state rather than an action. They typically relate to thoughts, emotions, relationships, senses, states of being, and measurements.\n",
    "\n",
    "### Modal Verbs\n",
    "Modal verbs are auxiliary verbs that are used to express abilities, possibilities, permissions, and obligations.\n",
    "\n",
    "### Phrasal Verbs\n",
    "Phrasal verbs aren’t single words; instead, they are combinations of words that are used together to take on a different meaning to that of the original verb.\n",
    "\n",
    "### Irregular Verbs\n",
    "Irregular verbs are those that don’t take on the regular spelling patterns of past simple and past participle verbs."
   ]
  },
  {
   "cell_type": "markdown",
   "metadata": {},
   "source": []
  },
  {
   "cell_type": "markdown",
   "metadata": {},
   "source": [
    "### Regular Expressions in Text Synthesizing"
   ]
  },
  {
   "cell_type": "code",
   "execution_count": 8,
   "metadata": {
    "scrolled": true
   },
   "outputs": [
    {
     "data": {
      "text/plain": [
       "['98.4', '32.33', '343.0']"
      ]
     },
     "execution_count": 8,
     "metadata": {},
     "output_type": "execute_result"
    }
   ],
   "source": [
    "w = x[0]+'98.4   34   4343  32.33 343.0'\n",
    "re.findall('\\d+\\.\\d+',w)"
   ]
  },
  {
   "cell_type": "code",
   "execution_count": 9,
   "metadata": {
    "scrolled": true
   },
   "outputs": [
    {
     "data": {
      "text/plain": [
       "['out', 'out']"
      ]
     },
     "execution_count": 9,
     "metadata": {},
     "output_type": "execute_result"
    }
   ],
   "source": [
    "re.findall(r'[o][u][t]',x[0])"
   ]
  },
  {
   "cell_type": "code",
   "execution_count": 10,
   "metadata": {
    "scrolled": true
   },
   "outputs": [
    {
     "data": {
      "text/plain": [
       "['98.4', '4343', '32.33', '343.0']"
      ]
     },
     "execution_count": 10,
     "metadata": {},
     "output_type": "execute_result"
    }
   ],
   "source": [
    "re.findall(r'\\d+.\\d+',w)"
   ]
  },
  {
   "cell_type": "code",
   "execution_count": 11,
   "metadata": {
    "scrolled": true
   },
   "outputs": [
    {
     "data": {
      "text/plain": [
       "['buldge']"
      ]
     },
     "execution_count": 11,
     "metadata": {},
     "output_type": "execute_result"
    }
   ],
   "source": [
    "[w for w in nltk.tokenize.word_tokenize(x[0]) if re.search(r'ge$',w)]"
   ]
  },
  {
   "cell_type": "code",
   "execution_count": 12,
   "metadata": {
    "scrolled": true
   },
   "outputs": [
    {
     "data": {
      "text/plain": [
       "['good', 'usa', 'company', 'that', 'stands']"
      ]
     },
     "execution_count": 12,
     "metadata": {},
     "output_type": "execute_result"
    }
   ],
   "source": [
    "w = wordlist = nltk.tokenize.word_tokenize(x[0])\n",
    "list(map(lambda x: x.lower(),wordlist))[:5]"
   ]
  },
  {
   "cell_type": "code",
   "execution_count": 13,
   "metadata": {
    "scrolled": true
   },
   "outputs": [
    {
     "data": {
      "text/plain": [
       "'Good USA company that stands behind their products. I have had to warranty two hoses and they send replacements right out to you. I had one burst after awhile, you could see it buldge for weeks before it went so no suprises. The other one was winter related as I am bad and leave them out most of the time. Highly reccomend. Note the hundred footer is heavy and like wresting an anaconda when its time to put away, but it does have a far reach.'"
      ]
     },
     "execution_count": 13,
     "metadata": {},
     "output_type": "execute_result"
    }
   ],
   "source": [
    "x[0]"
   ]
  },
  {
   "cell_type": "code",
   "execution_count": 14,
   "metadata": {
    "scrolled": true
   },
   "outputs": [
    {
     "data": {
      "text/plain": [
       "['company', 'stands', 'behind', 'their', 'products']"
      ]
     },
     "execution_count": 14,
     "metadata": {},
     "output_type": "execute_result"
    }
   ],
   "source": [
    "[w for w in nltk.tokenize.word_tokenize(x[0]) if re.search(r'\\w{5,7}$', w)][:5]"
   ]
  },
  {
   "cell_type": "code",
   "execution_count": 15,
   "metadata": {
    "scrolled": true
   },
   "outputs": [
    {
     "data": {
      "text/plain": [
       "['their', 'hoses', 'right', 'burst', 'after']"
      ]
     },
     "execution_count": 15,
     "metadata": {},
     "output_type": "execute_result"
    }
   ],
   "source": [
    "[w for w in nltk.tokenize.word_tokenize(x[0]) if re.search(r'^[a-zA-F]{5}$', w)][:5]"
   ]
  },
  {
   "cell_type": "code",
   "execution_count": 16,
   "metadata": {
    "scrolled": true
   },
   "outputs": [
    {
     "data": {
      "text/plain": [
       "['ou', 'ou', 'ou', 'ou', 'ou']"
      ]
     },
     "execution_count": 16,
     "metadata": {},
     "output_type": "execute_result"
    }
   ],
   "source": [
    "re.findall(r'[o][u]',x[0])[:5]"
   ]
  },
  {
   "cell_type": "code",
   "execution_count": 17,
   "metadata": {
    "scrolled": true
   },
   "outputs": [
    {
     "data": {
      "text/plain": [
       "['probably', 'should', 'have', 'bought', 'something']"
      ]
     },
     "execution_count": 17,
     "metadata": {},
     "output_type": "execute_result"
    }
   ],
   "source": [
    "wordlist = nltk.tokenize.word_tokenize(x[3])\n",
    "[w for w in wordlist if re.search('^[a-z]{3,}$', w)][:5]"
   ]
  },
  {
   "cell_type": "code",
   "execution_count": 18,
   "metadata": {
    "scrolled": true
   },
   "outputs": [
    {
     "data": {
      "text/plain": [
       "<_sre.SRE_Match object; span=(174, 176), match='it'>"
      ]
     },
     "execution_count": 18,
     "metadata": {},
     "output_type": "execute_result"
    }
   ],
   "source": [
    "re.search(r'[i][t]+',x[0])"
   ]
  },
  {
   "cell_type": "code",
   "execution_count": 19,
   "metadata": {
    "scrolled": true
   },
   "outputs": [
    {
     "data": {
      "text/plain": [
       "[]"
      ]
     },
     "execution_count": 19,
     "metadata": {},
     "output_type": "execute_result"
    }
   ],
   "source": [
    "[w for w in nltk.tokenize.word_tokenize(x[0]) if re.search('^[ghi][mno][jlk][def]$', w)]"
   ]
  },
  {
   "cell_type": "code",
   "execution_count": 20,
   "metadata": {
    "collapsed": true,
    "scrolled": true
   },
   "outputs": [],
   "source": [
    "import nltk\n",
    "a=nltk.corpus.brown.tagged_words(categories='news')[:15]"
   ]
  },
  {
   "cell_type": "code",
   "execution_count": 21,
   "metadata": {
    "scrolled": true
   },
   "outputs": [
    {
     "data": {
      "text/plain": [
       "[('the', 5580), (',', 5188), ('.', 4030), ('of', 2849), ('and', 2146)]"
      ]
     },
     "execution_count": 21,
     "metadata": {},
     "output_type": "execute_result"
    }
   ],
   "source": [
    "fd = nltk.FreqDist(nltk.corpus.brown.words(categories='news'))\n",
    "fd.most_common(5)"
   ]
  },
  {
   "cell_type": "code",
   "execution_count": 31,
   "metadata": {
    "scrolled": true
   },
   "outputs": [
    {
     "ename": "ValueError",
     "evalue": "too many values to unpack (expected 2)",
     "output_type": "error",
     "traceback": [
      "\u001b[1;31m---------------------------------------------------------------------------\u001b[0m",
      "\u001b[1;31mValueError\u001b[0m                                Traceback (most recent call last)",
      "\u001b[1;32m<ipython-input-31-bae3d6b836c7>\u001b[0m in \u001b[0;36m<module>\u001b[1;34m()\u001b[0m\n\u001b[1;32m----> 1\u001b[1;33m \u001b[0mfd\u001b[0m \u001b[1;33m=\u001b[0m \u001b[0mnltk\u001b[0m\u001b[1;33m.\u001b[0m\u001b[0mConditionalFreqDist\u001b[0m\u001b[1;33m(\u001b[0m\u001b[0mnltk\u001b[0m\u001b[1;33m.\u001b[0m\u001b[0mcorpus\u001b[0m\u001b[1;33m.\u001b[0m\u001b[0mbrown\u001b[0m\u001b[1;33m.\u001b[0m\u001b[0mwords\u001b[0m\u001b[1;33m(\u001b[0m\u001b[0mcategories\u001b[0m\u001b[1;33m=\u001b[0m\u001b[1;34m'news'\u001b[0m\u001b[1;33m)\u001b[0m\u001b[1;33m)\u001b[0m\u001b[1;33m\u001b[0m\u001b[0m\n\u001b[0m\u001b[0;32m      2\u001b[0m \u001b[0mfd\u001b[0m\u001b[1;33m.\u001b[0m\u001b[0mmost_common\u001b[0m\u001b[1;33m(\u001b[0m\u001b[1;36m5\u001b[0m\u001b[1;33m)\u001b[0m\u001b[1;33m\u001b[0m\u001b[0m\n",
      "\u001b[1;32mc:\\users\\naga kiran\\appdata\\local\\programs\\python\\python36\\lib\\site-packages\\nltk-3.2.5-py3.6.egg\\nltk\\probability.py\u001b[0m in \u001b[0;36m__init__\u001b[1;34m(self, cond_samples)\u001b[0m\n\u001b[0;32m   1792\u001b[0m \u001b[1;33m\u001b[0m\u001b[0m\n\u001b[0;32m   1793\u001b[0m         \u001b[1;32mif\u001b[0m \u001b[0mcond_samples\u001b[0m\u001b[1;33m:\u001b[0m\u001b[1;33m\u001b[0m\u001b[0m\n\u001b[1;32m-> 1794\u001b[1;33m             \u001b[1;32mfor\u001b[0m \u001b[1;33m(\u001b[0m\u001b[0mcond\u001b[0m\u001b[1;33m,\u001b[0m \u001b[0msample\u001b[0m\u001b[1;33m)\u001b[0m \u001b[1;32min\u001b[0m \u001b[0mcond_samples\u001b[0m\u001b[1;33m:\u001b[0m\u001b[1;33m\u001b[0m\u001b[0m\n\u001b[0m\u001b[0;32m   1795\u001b[0m                 \u001b[0mself\u001b[0m\u001b[1;33m[\u001b[0m\u001b[0mcond\u001b[0m\u001b[1;33m]\u001b[0m\u001b[1;33m[\u001b[0m\u001b[0msample\u001b[0m\u001b[1;33m]\u001b[0m \u001b[1;33m+=\u001b[0m \u001b[1;36m1\u001b[0m\u001b[1;33m\u001b[0m\u001b[0m\n\u001b[0;32m   1796\u001b[0m \u001b[1;33m\u001b[0m\u001b[0m\n",
      "\u001b[1;31mValueError\u001b[0m: too many values to unpack (expected 2)"
     ]
    }
   ],
   "source": [
    "fd = nltk.ConditionalFreqDist(nltk.corpus.brown.words(categories='news'))\n",
    "fd.most_common(5)"
   ]
  },
  {
   "cell_type": "code",
   "execution_count": 14,
   "metadata": {
    "collapsed": true
   },
   "outputs": [],
   "source": [
    "from nltk.corpus import brown\n",
    "brown_tagged_sents = brown.tagged_sents(categories='news')\n",
    "brown_sents = brown.sents(categories='news')"
   ]
  },
  {
   "cell_type": "code",
   "execution_count": 15,
   "metadata": {},
   "outputs": [
    {
     "data": {
      "text/plain": [
       "[('Various', 'JJ'),\n",
       " ('of', 'IN'),\n",
       " ('the', 'AT'),\n",
       " ('apartments', 'NNS'),\n",
       " ('are', 'BER'),\n",
       " ('of', 'IN'),\n",
       " ('the', 'AT'),\n",
       " ('terrace', 'NN'),\n",
       " ('type', 'NN'),\n",
       " (',', ',')]"
      ]
     },
     "execution_count": 15,
     "metadata": {},
     "output_type": "execute_result"
    }
   ],
   "source": [
    "unigram_tagger = nltk.UnigramTagger(brown_tagged_sents)\n",
    "unigram_tagger.tag(brown_sents[2007])[:10]"
   ]
  },
  {
   "cell_type": "code",
   "execution_count": 16,
   "metadata": {},
   "outputs": [
    {
     "data": {
      "text/plain": [
       "0.8111044507717668"
      ]
     },
     "execution_count": 16,
     "metadata": {},
     "output_type": "execute_result"
    }
   ],
   "source": [
    "train_sents = brown_tagged_sents[:4000]\n",
    "test_sents = brown_tagged_sents[4000:]\n",
    "unigram_tagger = nltk.UnigramTagger(train_sents)\n",
    "unigram_tagger.evaluate(test_sents)"
   ]
  },
  {
   "cell_type": "code",
   "execution_count": null,
   "metadata": {
    "collapsed": true
   },
   "outputs": [],
   "source": []
  },
  {
   "cell_type": "code",
   "execution_count": 21,
   "metadata": {
    "scrolled": true
   },
   "outputs": [
    {
     "name": "stdout",
     "output_type": "stream",
     "text": [
      "                 AT    IN    JJ JJ-TL    NN NN-TL   NP$ NP-TL    NR   VBD \n",
      "    Atlanta's     0     0     0     0     0     0     1     0     0     0 \n",
      "       County     0     0     0     0     0     1     0     0     0     0 \n",
      "       Friday     0     0     0     0     0     0     0     0     1     0 \n",
      "       Fulton     0     0     0     0     0     0     0     1     0     0 \n",
      "        Grand     0     0     0     1     0     0     0     0     0     0 \n",
      "         Jury     0     0     0     0     0     1     0     0     0     0 \n",
      "          The     1     0     0     0     0     0     0     0     0     0 \n",
      "           an     1     0     0     0     0     0     0     0     0     0 \n",
      "     election     0     0     0     0     1     0     0     0     0     0 \n",
      "investigation     0     0     0     0     1     0     0     0     0     0 \n",
      "           of     0     1     0     0     0     0     0     0     0     0 \n",
      "      primary     0     0     0     0     1     0     0     0     0     0 \n",
      "     produced     0     0     0     0     0     0     0     0     0     1 \n",
      "       recent     0     0     1     0     0     0     0     0     0     0 \n",
      "         said     0     0     0     0     0     0     0     0     0     1 \n"
     ]
    },
    {
     "data": {
      "text/html": [
       "<div>\n",
       "<style scoped>\n",
       "    .dataframe tbody tr th:only-of-type {\n",
       "        vertical-align: middle;\n",
       "    }\n",
       "\n",
       "    .dataframe tbody tr th {\n",
       "        vertical-align: top;\n",
       "    }\n",
       "\n",
       "    .dataframe thead th {\n",
       "        text-align: right;\n",
       "    }\n",
       "</style>\n",
       "<table border=\"1\" class=\"dataframe\">\n",
       "  <thead>\n",
       "    <tr style=\"text-align: right;\">\n",
       "      <th></th>\n",
       "    </tr>\n",
       "  </thead>\n",
       "  <tbody>\n",
       "  </tbody>\n",
       "</table>\n",
       "</div>"
      ],
      "text/plain": [
       "Empty DataFrame\n",
       "Columns: []\n",
       "Index: []"
      ]
     },
     "execution_count": 21,
     "metadata": {},
     "output_type": "execute_result"
    }
   ],
   "source": [
    "\n",
    "d =nltk.ConditionalFreqDist(nltk.pos_tag(nltk.tokenize.word_tokenize(x[0])))\n",
    "cfd = nltk.ConditionalFreqDist(nltk.corpus.brown.tagged_words(categories='news')[:15])\n",
    "pd.DataFrame(cfd.tabulate()).head()"
   ]
  },
  {
   "cell_type": "code",
   "execution_count": 36,
   "metadata": {
    "scrolled": true
   },
   "outputs": [
    {
     "data": {
      "text/plain": [
       "[[('The', 'AT'), ('Fulton', 'NP-TL'), ('County', 'NN-TL'), ('Grand', 'JJ-TL'), ('Jury', 'NN-TL'), ('said', 'VBD'), ('Friday', 'NR'), ('an', 'AT'), ('investigation', 'NN'), ('of', 'IN'), (\"Atlanta's\", 'NP$'), ('recent', 'JJ'), ('primary', 'NN'), ('election', 'NN'), ('produced', 'VBD'), ('``', '``'), ('no', 'AT'), ('evidence', 'NN'), (\"''\", \"''\"), ('that', 'CS'), ('any', 'DTI'), ('irregularities', 'NNS'), ('took', 'VBD'), ('place', 'NN'), ('.', '.')], [('The', 'AT'), ('jury', 'NN'), ('further', 'RBR'), ('said', 'VBD'), ('in', 'IN'), ('term-end', 'NN'), ('presentments', 'NNS'), ('that', 'CS'), ('the', 'AT'), ('City', 'NN-TL'), ('Executive', 'JJ-TL'), ('Committee', 'NN-TL'), (',', ','), ('which', 'WDT'), ('had', 'HVD'), ('over-all', 'JJ'), ('charge', 'NN'), ('of', 'IN'), ('the', 'AT'), ('election', 'NN'), (',', ','), ('``', '``'), ('deserves', 'VBZ'), ('the', 'AT'), ('praise', 'NN'), ('and', 'CC'), ('thanks', 'NNS'), ('of', 'IN'), ('the', 'AT'), ('City', 'NN-TL'), ('of', 'IN-TL'), ('Atlanta', 'NP-TL'), (\"''\", \"''\"), ('for', 'IN'), ('the', 'AT'), ('manner', 'NN'), ('in', 'IN'), ('which', 'WDT'), ('the', 'AT'), ('election', 'NN'), ('was', 'BEDZ'), ('conducted', 'VBN'), ('.', '.')], ...]"
      ]
     },
     "execution_count": 36,
     "metadata": {},
     "output_type": "execute_result"
    }
   ],
   "source": [
    " nltk.corpus.brown.tagged_sents(categories='news')"
   ]
  },
  {
   "cell_type": "code",
   "execution_count": null,
   "metadata": {
    "collapsed": true,
    "scrolled": true
   },
   "outputs": [],
   "source": []
  },
  {
   "cell_type": "code",
   "execution_count": null,
   "metadata": {
    "collapsed": true,
    "scrolled": true
   },
   "outputs": [],
   "source": []
  },
  {
   "cell_type": "markdown",
   "metadata": {
    "collapsed": true
   },
   "source": [
    "## Retrieving the Synonyms of a Word from OXFORD thesaurus dictionaries with the use of Rest API "
   ]
  },
  {
   "cell_type": "code",
   "execution_count": 5,
   "metadata": {
    "collapsed": true
   },
   "outputs": [],
   "source": [
    "import requests\n",
    "import json\n",
    "\n",
    "app_id = '96612f3b'\n",
    "app_key = 'dc9b1d7ab5ec44eca4ea60507126bdae'\n",
    "\n",
    "language = 'en'\n",
    "word_id = 'eat'\n",
    "\n",
    "url = 'https://od-api.oxforddictionaries.com:443/api/v1/entries/' + language + '/' + word_id.lower() + '/synonyms'\n",
    "\n",
    "r = requests.get(url, headers = {'app_id': app_id, 'app_key': app_key})\n",
    "\n",
    "#print(\"code {}\\n\".format(r.status_code))\n",
    "#print(\"text \\n\" + r.text)\n",
    "#print(\"json \\n\" + json.dumps(r.json()))"
   ]
  },
  {
   "cell_type": "markdown",
   "metadata": {},
   "source": [
    "### Oxford Thesaurus Dictionary can define the word in different ways \n",
    "####  Strong Synonyms : which can define very close Meaning of asked word, All Synonyms can give all relative possibilties of a asked word. We can use these closeness words, all synonyms,all antonyms  and antonyms as a features of a asked word in reviewing the sentence."
   ]
  },
  {
   "cell_type": "markdown",
   "metadata": {},
   "source": [
    "<img src=\"thesaurus.png\",width=900,height=500>"
   ]
  },
  {
   "cell_type": "code",
   "execution_count": 6,
   "metadata": {},
   "outputs": [
    {
     "name": "stdout",
     "output_type": "stream",
     "text": [
      "swallow\n",
      "chew\n",
      "munch\n",
      "chomp\n",
      "champ\n"
     ]
    }
   ],
   "source": [
    "# retrieving the Synonyms and Antonyms of a asked word 'eat'\n",
    "da = r.json()['results'][0]['lexicalEntries'][0]['entries'][0]['senses'][0]['subsenses'][0]\n",
    "try:\n",
    "    if da['registers'][0] == 'informal':\n",
    "        #print(da['synonyms'])\n",
    "        print('informal')\n",
    "        for i in (da['synonyms']):\n",
    "            print(i['text'])\n",
    "except:\n",
    "    for i in (da['synonyms']):\n",
    "            print(i['text'])\n",
    "    "
   ]
  },
  {
   "cell_type": "markdown",
   "metadata": {},
   "source": [
    "## Retrieving the Synonyms from the PyDictionary in Python"
   ]
  },
  {
   "cell_type": "markdown",
   "metadata": {},
   "source": [
    "The Pydicionary Package in Python internally uses the Thesaurus Url and word synonyms page is downloaded through Pydictionary package. The Downloaded page with respect to Synonyms or Antonyms is feed to Beautiful package which will extract all Synonyms and Antonyms from the downloaded page Text "
   ]
  },
  {
   "cell_type": "code",
   "execution_count": 1,
   "metadata": {
    "collapsed": true
   },
   "outputs": [],
   "source": [
    "import PyDictionary\n",
    "Dictionary =  PyDictionary.PyDictionary()"
   ]
  },
  {
   "cell_type": "code",
   "execution_count": 20,
   "metadata": {
    "collapsed": true
   },
   "outputs": [],
   "source": [
    "Negative_Features = ['word','Apathy','Atrocious','Bemoan','Cold-hearted','Deplorable','Despicable','Detrimental','Dreadful','Ghastly','Grotesque','Gruesome','Hard-hearted','Insidious','Insipid','Malicious','Monstrous','Noxious','Offensive','Oppressive','Pessimistic','Prejudice','Repulsive','Ruthless','Sinister','Vice','Vicious','Vile','Villainous','Vindictive']"
   ]
  },
  {
   "cell_type": "markdown",
   "metadata": {},
   "source": [
    "Searching the Synonyms of a word with PyDictionary"
   ]
  },
  {
   "cell_type": "code",
   "execution_count": null,
   "metadata": {},
   "outputs": [
    {
     "name": "stderr",
     "output_type": "stream",
     "text": [
      "c:\\users\\naga kiran\\appdata\\local\\programs\\python\\python36\\lib\\site-packages\\beautifulsoup4-4.6.0-py3.6.egg\\bs4\\__init__.py:181: UserWarning: No parser was explicitly specified, so I'm using the best available HTML parser for this system (\"html5lib\"). This usually isn't a problem, but if you run this code on another system, or in a different virtual environment, it may use a different parser and behave differently.\n",
      "\n",
      "The code that caused this warning is on line 193 of the file c:\\users\\naga kiran\\appdata\\local\\programs\\python\\python36\\lib\\runpy.py. To get rid of this warning, change code that looks like this:\n",
      "\n",
      " BeautifulSoup(YOUR_MARKUP})\n",
      "\n",
      "to this:\n",
      "\n",
      " BeautifulSoup(YOUR_MARKUP, \"html5lib\")\n",
      "\n",
      "  markup_type=markup_type))\n"
     ]
    },
    {
     "name": "stdout",
     "output_type": "stream",
     "text": [
      "Apathy has no Synonyms in the API\n",
      "Apathy has no Synonyms in the API\n",
      "Apathy has no Synonyms in the API\n",
      "Apathy has no Synonyms in the API\n",
      "Apathy has no Synonyms in the API\n",
      "Apathy has no Synonyms in the API\n",
      "Apathy has no Synonyms in the API\n",
      "Apathy has no Synonyms in the API\n",
      "Apathy has no Synonyms in the API\n",
      "Apathy has no Synonyms in the API\n",
      "Apathy has no Synonyms in the API\n",
      "Apathy has no Synonyms in the API\n",
      "Apathy has no Synonyms in the API\n",
      "Apathy has no Synonyms in the API\n",
      "Apathy has no Synonyms in the API\n",
      "Apathy has no Synonyms in the API\n",
      "Apathy has no Synonyms in the API\n",
      "Apathy has no Synonyms in the API\n",
      "Apathy has no Synonyms in the API\n",
      "Apathy has no Synonyms in the API\n",
      "Apathy has no Synonyms in the API\n"
     ]
    }
   ],
   "source": [
    "word_in = 'Apathy'\n",
    "syns = Dictionary.synonym(word_in)\n",
    "count = 0\n",
    "while syns is None and count <20:\n",
    "    syns = Dictionary.synonym(word_in)\n",
    "    count = count + 1\n"
   ]
  },
  {
   "cell_type": "markdown",
   "metadata": {},
   "source": [
    "### The below Code Finds the Synonyms1 for one word, For that synonyms1 next synonyms2 will be searched This way the process will be continued to Fetch all the relative words of mentioned word. The stages of word synonyms will be given with the score for each stage to point how relative the word is. "
   ]
  },
  {
   "cell_type": "code",
   "execution_count": 2,
   "metadata": {
    "scrolled": true
   },
   "outputs": [],
   "source": [
    "t1 = time.time()\n",
    "word = 'Apathy'\n",
    "temp_df = pd.DataFrame(columns= [word,'word'])\n",
    "syns = Dictionary.synonym(word)\n",
    "while syns is None:\n",
    "    syns = Dictionary.synonym(word)\n",
    "    \n",
    "temp_list1 = syns\n",
    "temp_list2 = []\n",
    "words = []\n",
    "score = []\n",
    "words.extend(syns)\n",
    "score.extend(np.repeat(1,len(syns)))\n",
    "print('stage -1')\n",
    "print(temp_list1)\n",
    "    \n",
    "for i in range(1):\n",
    "    print('loop',i)\n",
    "    \n",
    "    for j in temp_list1:\n",
    "        \n",
    "        if j not in words:\n",
    "            print('inner')\n",
    "            word_in = j.split(' ')[0]\n",
    "            syns = Dictionary.synonym(word_in)\n",
    "            count = 0\n",
    "            while syns is None and count <20:\n",
    "                syns = Dictionary.synonym(word_in)\n",
    "                count = count + 1\n",
    "            if syns is not None:\n",
    "                temp_list2.extend(syns)\n",
    "\n",
    "    words.extend(temp_list2)\n",
    "    score.extend(np.repeat(1-0.005*i,len(temp_list2)))\n",
    "    temp_list1 = temp_list2\n",
    "\n",
    "    \n",
    "    \n",
    "#     syns = Dictionary.synonym(word)\n",
    "#     while temp is None:\n",
    "#         syns = Dictionary.synonym(word)\n",
    "print(time.time()-t1)    \n",
    "    "
   ]
  },
  {
   "cell_type": "code",
   "execution_count": 8,
   "metadata": {},
   "outputs": [
    {
     "data": {
      "text/plain": [
       "5"
      ]
     },
     "execution_count": 8,
     "metadata": {},
     "output_type": "execute_result"
    }
   ],
   "source": [
    "len(words)"
   ]
  },
  {
   "cell_type": "code",
   "execution_count": null,
   "metadata": {
    "collapsed": true
   },
   "outputs": [],
   "source": []
  },
  {
   "cell_type": "code",
   "execution_count": 11,
   "metadata": {},
   "outputs": [
    {
     "data": {
      "text/plain": [
       "30"
      ]
     },
     "execution_count": 11,
     "metadata": {},
     "output_type": "execute_result"
    }
   ],
   "source": [
    "len(score)"
   ]
  },
  {
   "cell_type": "code",
   "execution_count": null,
   "metadata": {
    "collapsed": true
   },
   "outputs": [],
   "source": []
  },
  {
   "cell_type": "code",
   "execution_count": null,
   "metadata": {
    "collapsed": true
   },
   "outputs": [],
   "source": [
    "df.reviewText"
   ]
  },
  {
   "cell_type": "markdown",
   "metadata": {},
   "source": [
    "### Seperating the all the Less rating sentences"
   ]
  },
  {
   "cell_type": "code",
   "execution_count": 9,
   "metadata": {
    "collapsed": true
   },
   "outputs": [],
   "source": [
    "Negative_Comments = df[df.overall.isin([1,2])]['reviewText']\n",
    "Negative_Comments = Negative_Comments.apply(lambda x : preprocess(x) if isinstance(x,str) else ' ')\n",
    "Negative_Comments1 = Negative_Comments.apply(lambda x : nltk.pos_tag(nltk.tokenize.word_tokenize(x)))"
   ]
  },
  {
   "cell_type": "code",
   "execution_count": 10,
   "metadata": {},
   "outputs": [
    {
     "name": "stdout",
     "output_type": "stream",
     "text": [
      "metal soft , wore light use , thread front already smooth outlots rust back pullerhandle part , need something better material , rather buy done many year \n"
     ]
    },
    {
     "data": {
      "text/plain": [
       "[('metal', 'NN'),\n",
       " ('soft', 'JJ'),\n",
       " (',', ','),\n",
       " ('wore', 'RB'),\n",
       " ('light', 'JJ'),\n",
       " ('use', 'NN'),\n",
       " (',', ','),\n",
       " ('thread', 'JJ'),\n",
       " ('front', 'NN'),\n",
       " ('already', 'RB'),\n",
       " ('smooth', 'JJ'),\n",
       " ('outlots', 'NNS'),\n",
       " ('rust', 'VBP'),\n",
       " ('back', 'RB'),\n",
       " ('pullerhandle', 'JJ'),\n",
       " ('part', 'NN'),\n",
       " (',', ','),\n",
       " ('need', 'VBP'),\n",
       " ('something', 'NN'),\n",
       " ('better', 'RBR'),\n",
       " ('material', 'NN'),\n",
       " (',', ','),\n",
       " ('rather', 'RB'),\n",
       " ('buy', 'VB'),\n",
       " ('done', 'VBN'),\n",
       " ('many', 'JJ'),\n",
       " ('year', 'NN')]"
      ]
     },
     "execution_count": 10,
     "metadata": {},
     "output_type": "execute_result"
    }
   ],
   "source": [
    "print(Negative_Comments.reset_index(drop = True)[0])\n",
    "Negative_Comments1.iloc[0]"
   ]
  },
  {
   "cell_type": "code",
   "execution_count": null,
   "metadata": {
    "collapsed": true
   },
   "outputs": [],
   "source": []
  },
  {
   "cell_type": "markdown",
   "metadata": {},
   "source": [
    "### Extracting the Verbs from sentence '"
   ]
  },
  {
   "cell_type": "code",
   "execution_count": 18,
   "metadata": {},
   "outputs": [
    {
     "data": {
      "text/plain": [
       "[('wore', 'RB'),\n",
       " ('already', 'RB'),\n",
       " ('rust', 'VBP'),\n",
       " ('back', 'RB'),\n",
       " ('need', 'VBP'),\n",
       " ('rather', 'RB'),\n",
       " ('buy', 'VB'),\n",
       " ('done', 'VBN')]"
      ]
     },
     "execution_count": 18,
     "metadata": {},
     "output_type": "execute_result"
    }
   ],
   "source": [
    "[i for i in Negative_Comments1.iloc[0] if i[1] in ['VB','VBP','VBN','VBZ','RB']]"
   ]
  },
  {
   "cell_type": "markdown",
   "metadata": {},
   "source": [
    "### Extracting the Nouns from sentence"
   ]
  },
  {
   "cell_type": "code",
   "execution_count": 11,
   "metadata": {},
   "outputs": [
    {
     "data": {
      "text/plain": [
       "[('metal', 'NN'),\n",
       " ('use', 'NN'),\n",
       " ('front', 'NN'),\n",
       " ('part', 'NN'),\n",
       " ('something', 'NN'),\n",
       " ('material', 'NN'),\n",
       " ('year', 'NN')]"
      ]
     },
     "execution_count": 11,
     "metadata": {},
     "output_type": "execute_result"
    }
   ],
   "source": [
    "[i for i in Negative_Comments1.iloc[0] if i[1] in ['NN','NNs']]"
   ]
  },
  {
   "cell_type": "code",
   "execution_count": null,
   "metadata": {
    "collapsed": true
   },
   "outputs": [],
   "source": []
  },
  {
   "cell_type": "code",
   "execution_count": null,
   "metadata": {
    "collapsed": true
   },
   "outputs": [],
   "source": []
  },
  {
   "cell_type": "code",
   "execution_count": null,
   "metadata": {
    "collapsed": true
   },
   "outputs": [],
   "source": []
  },
  {
   "cell_type": "code",
   "execution_count": null,
   "metadata": {
    "collapsed": true
   },
   "outputs": [],
   "source": []
  },
  {
   "cell_type": "code",
   "execution_count": null,
   "metadata": {
    "collapsed": true
   },
   "outputs": [],
   "source": []
  },
  {
   "cell_type": "code",
   "execution_count": null,
   "metadata": {
    "collapsed": true
   },
   "outputs": [],
   "source": []
  },
  {
   "cell_type": "code",
   "execution_count": null,
   "metadata": {
    "collapsed": true
   },
   "outputs": [],
   "source": []
  },
  {
   "cell_type": "code",
   "execution_count": null,
   "metadata": {
    "collapsed": true
   },
   "outputs": [],
   "source": []
  },
  {
   "cell_type": "markdown",
   "metadata": {},
   "source": [
    "### Differentiate the Verbs and Nouns with POS tags \n",
    "#### 1) Form the Verbs sentence and \n",
    "#### 2) Form the Nouns sentence to point out\n",
    "#### 3) most similar problems data extraction ( positive ) noun on what and verb (cause)"
   ]
  },
  {
   "cell_type": "code",
   "execution_count": 16,
   "metadata": {
    "scrolled": true
   },
   "outputs": [
    {
     "name": "stdout",
     "output_type": "stream",
     "text": [
      "145.19116234779358\n"
     ]
    }
   ],
   "source": [
    "t1=time.time()\n",
    "l=[]\n",
    "for i in x:\n",
    "    if isinstance(i,str):\n",
    "        l.append(preprocess(i))\n",
    "    else:\n",
    "        l.append(' ')\n",
    "print(time.time()-t1)"
   ]
  },
  {
   "cell_type": "markdown",
   "metadata": {},
   "source": [
    "## Building responsive system on Natural Language\n",
    "#### 1) Understand the verbs and nouns of given sentence \n",
    "### 2) either work done or not ( verbs ,Nouns ,plural,gender ,things)\n",
    "#### 3) understand the Grammetical Tense(present,past or future) feed all to Neural Network\n",
    "#### 4) Builda LSTM networks for all different variations of Grammetical sentences with trained information of WEB\n",
    "#### 5) Build another neural network to differentiate the sentence variation \n",
    "#### 6) Final neural netword to replace the nouns and plurals "
   ]
  },
  {
   "cell_type": "code",
   "execution_count": 83,
   "metadata": {
    "scrolled": true
   },
   "outputs": [
    {
     "data": {
      "text/plain": [
       "'a score in baseball made by a runner touching all four bases safely'"
      ]
     },
     "execution_count": 83,
     "metadata": {},
     "output_type": "execute_result"
    }
   ],
   "source": [
    "nltk.corpus.wordnet.synset('run.n.01').definition()"
   ]
  },
  {
   "cell_type": "code",
   "execution_count": 20,
   "metadata": {
    "scrolled": true
   },
   "outputs": [
    {
     "data": {
      "text/plain": [
       "['This',\n",
       " 'high',\n",
       " 'quality',\n",
       " '8',\n",
       " 'ply',\n",
       " 'hose',\n",
       " '.',\n",
       " 'I',\n",
       " 'good',\n",
       " 'luck',\n",
       " 'Gilmour',\n",
       " 'hoses',\n",
       " 'past',\n",
       " '.',\n",
       " 'A',\n",
       " 'good',\n",
       " 'choice',\n",
       " 'hoses',\n",
       " '.']"
      ]
     },
     "execution_count": 20,
     "metadata": {},
     "output_type": "execute_result"
    }
   ],
   "source": [
    "stopwords(nltk.tokenize.word_tokenize(x[1]))"
   ]
  },
  {
   "cell_type": "code",
   "execution_count": 88,
   "metadata": {
    "collapsed": true,
    "scrolled": true
   },
   "outputs": [],
   "source": [
    "preproc=' '.join(df.Preprocess)"
   ]
  },
  {
   "cell_type": "code",
   "execution_count": 89,
   "metadata": {
    "collapsed": true,
    "scrolled": true
   },
   "outputs": [],
   "source": [
    "preproc = nltk.tokenize.word_tokenize(preproc)"
   ]
  },
  {
   "cell_type": "code",
   "execution_count": 90,
   "metadata": {
    "collapsed": true,
    "scrolled": true
   },
   "outputs": [],
   "source": [
    "count =  Counter(preproc)"
   ]
  },
  {
   "cell_type": "code",
   "execution_count": 91,
   "metadata": {
    "scrolled": true
   },
   "outputs": [
    {
     "data": {
      "text/plain": [
       "[('i', 58620),\n",
       " ('nt', 13434),\n",
       " ('the', 12029),\n",
       " ('s', 10310),\n",
       " ('one', 9558),\n",
       " ('it', 9518),\n",
       " ('use', 7844),\n",
       " ('like', 6951),\n",
       " ('get', 6835),\n",
       " ('this', 6362)]"
      ]
     },
     "execution_count": 91,
     "metadata": {},
     "output_type": "execute_result"
    }
   ],
   "source": [
    "count.most_common(10)"
   ]
  },
  {
   "cell_type": "code",
   "execution_count": 56,
   "metadata": {
    "scrolled": true
   },
   "outputs": [
    {
     "data": {
      "text/plain": [
       "[('i', 58620),\n",
       " ('nt', 13434),\n",
       " ('the', 12029),\n",
       " ('s', 10310),\n",
       " ('one', 9558),\n",
       " ('it', 9518),\n",
       " ('use', 7844),\n",
       " ('like', 6951),\n",
       " ('get', 6835),\n",
       " ('this', 6362)]"
      ]
     },
     "execution_count": 56,
     "metadata": {},
     "output_type": "execute_result"
    }
   ],
   "source": [
    "count.most_common(10)"
   ]
  },
  {
   "cell_type": "code",
   "execution_count": 54,
   "metadata": {
    "collapsed": true,
    "scrolled": true
   },
   "outputs": [],
   "source": [
    "stop_words=nltk.corpus.stopwords.words('english')"
   ]
  },
  {
   "cell_type": "code",
   "execution_count": 93,
   "metadata": {
    "scrolled": true
   },
   "outputs": [
    {
     "data": {
      "text/plain": [
       "True"
      ]
     },
     "execution_count": 93,
     "metadata": {},
     "output_type": "execute_result"
    }
   ],
   "source": [
    "'s' in stop_words"
   ]
  },
  {
   "cell_type": "code",
   "execution_count": null,
   "metadata": {
    "collapsed": true,
    "scrolled": true
   },
   "outputs": [],
   "source": [
    "x=[i for i in df.reviewText if isinstance(i,str)]\n",
    "x=' '.join(x)\n",
    "tokens=nltk.tokenize.word_tokenize(x)\n",
    "counts=Counter(tokens)\n",
    "counts.most_common(100)"
   ]
  },
  {
   "cell_type": "code",
   "execution_count": null,
   "metadata": {
    "collapsed": true,
    "scrolled": true
   },
   "outputs": [],
   "source": []
  },
  {
   "cell_type": "code",
   "execution_count": null,
   "metadata": {
    "collapsed": true,
    "scrolled": true
   },
   "outputs": [],
   "source": []
  },
  {
   "cell_type": "code",
   "execution_count": null,
   "metadata": {
    "collapsed": true,
    "scrolled": true
   },
   "outputs": [],
   "source": [
    "from __future__ import division\n",
    "import nltk\n",
    "from nltk.corpus import wordnet as wn\n",
    "from nltk.corpus import brown\n",
    "import math\n",
    "import numpy as np\n",
    "import sys\n",
    "\n",
    "# Parameters to the algorithm. Currently set to values that was reported\n",
    "# in the paper to produce \"best\" results.\n",
    "ALPHA = 0.2\n",
    "BETA = 0.45\n",
    "ETA = 0.4\n",
    "PHI = 0.2\n",
    "DELTA = 0.85\n",
    "\n",
    "brown_freqs = dict()\n",
    "N = 0\n",
    "\n",
    "######################### word similarity ##########################\n",
    "\n",
    "def get_best_synset_pair(word_1, word_2):\n",
    "    \"\"\" \n",
    "    Choose the pair with highest path similarity among all pairs. \n",
    "    Mimics pattern-seeking behavior of humans.\n",
    "    \"\"\"\n",
    "    max_sim = -1.0\n",
    "    synsets_1 = wn.synsets(word_1)\n",
    "    synsets_2 = wn.synsets(word_2)\n",
    "    if len(synsets_1) == 0 or len(synsets_2) == 0:\n",
    "        return None, None\n",
    "    else:\n",
    "        max_sim = -1.0\n",
    "        best_pair = None, None\n",
    "        for synset_1 in synsets_1:\n",
    "            for synset_2 in synsets_2:\n",
    "               sim = wn.path_similarity(synset_1, synset_2)\n",
    "               if sim > max_sim:\n",
    "                   max_sim = sim\n",
    "                   best_pair = synset_1, synset_2\n",
    "        return best_pair\n",
    "\n",
    "def length_dist(synset_1, synset_2):\n",
    "    \"\"\"\n",
    "    Return a measure of the length of the shortest path in the semantic \n",
    "    ontology (Wordnet in our case as well as the paper's) between two \n",
    "    synsets.\n",
    "    \"\"\"\n",
    "    l_dist = sys.maxint\n",
    "    if synset_1 is None or synset_2 is None: \n",
    "        return 0.0\n",
    "    if synset_1 == synset_2:\n",
    "        # if synset_1 and synset_2 are the same synset return 0\n",
    "        l_dist = 0.0\n",
    "    else:\n",
    "        wset_1 = set([str(x.name()) for x in synset_1.lemmas()])        \n",
    "        wset_2 = set([str(x.name()) for x in synset_2.lemmas()])\n",
    "        if len(wset_1.intersection(wset_2)) > 0:\n",
    "            # if synset_1 != synset_2 but there is word overlap, return 1.0\n",
    "            l_dist = 1.0\n",
    "        else:\n",
    "            # just compute the shortest path between the two\n",
    "            l_dist = synset_1.shortest_path_distance(synset_2)\n",
    "            if l_dist is None:\n",
    "                l_dist = 0.0\n",
    "    # normalize path length to the range [0,1]\n",
    "    return math.exp(-ALPHA * l_dist)\n",
    "\n",
    "def hierarchy_dist(synset_1, synset_2):\n",
    "    \"\"\"\n",
    "    Return a measure of depth in the ontology to model the fact that \n",
    "    nodes closer to the root are broader and have less semantic similarity\n",
    "    than nodes further away from the root.\n",
    "    \"\"\"\n",
    "    h_dist = sys.maxint\n",
    "    if synset_1 is None or synset_2 is None: \n",
    "        return h_dist\n",
    "    if synset_1 == synset_2:\n",
    "        # return the depth of one of synset_1 or synset_2\n",
    "        h_dist = max([x[1] for x in synset_1.hypernym_distances()])\n",
    "    else:\n",
    "        # find the max depth of least common subsumer\n",
    "        hypernyms_1 = {x[0]:x[1] for x in synset_1.hypernym_distances()}\n",
    "        hypernyms_2 = {x[0]:x[1] for x in synset_2.hypernym_distances()}\n",
    "        lcs_candidates = set(hypernyms_1.keys()).intersection(\n",
    "            set(hypernyms_2.keys()))\n",
    "        if len(lcs_candidates) > 0:\n",
    "            lcs_dists = []\n",
    "            for lcs_candidate in lcs_candidates:\n",
    "                lcs_d1 = 0\n",
    "                if hypernyms_1.has_key(lcs_candidate):\n",
    "                    lcs_d1 = hypernyms_1[lcs_candidate]\n",
    "                lcs_d2 = 0\n",
    "                if hypernyms_2.has_key(lcs_candidate):\n",
    "                    lcs_d2 = hypernyms_2[lcs_candidate]\n",
    "                lcs_dists.append(max([lcs_d1, lcs_d2]))\n",
    "            h_dist = max(lcs_dists)\n",
    "        else:\n",
    "            h_dist = 0\n",
    "    return ((math.exp(BETA * h_dist) - math.exp(-BETA * h_dist)) / \n",
    "        (math.exp(BETA * h_dist) + math.exp(-BETA * h_dist)))\n",
    "    \n",
    "def word_similarity(word_1, word_2):\n",
    "    synset_pair = get_best_synset_pair(word_1, word_2)\n",
    "    return (length_dist(synset_pair[0], synset_pair[1]) * \n",
    "        hierarchy_dist(synset_pair[0], synset_pair[1]))\n",
    "\n",
    "######################### sentence similarity ##########################\n",
    "\n",
    "def most_similar_word(word, word_set):\n",
    "    \"\"\"\n",
    "    Find the word in the joint word set that is most similar to the word\n",
    "    passed in. We use the algorithm above to compute word similarity between\n",
    "    the word and each word in the joint word set, and return the most similar\n",
    "    word and the actual similarity value.\n",
    "    \"\"\"\n",
    "    max_sim = -1.0\n",
    "    sim_word = \"\"\n",
    "    for ref_word in word_set:\n",
    "      sim = word_similarity(word, ref_word)\n",
    "      if sim > max_sim:\n",
    "          max_sim = sim\n",
    "          sim_word = ref_word\n",
    "    return sim_word, max_sim\n",
    "    \n",
    "def info_content(lookup_word):\n",
    "    \"\"\"\n",
    "    Uses the Brown corpus available in NLTK to calculate a Laplace\n",
    "    smoothed frequency distribution of words, then uses this information\n",
    "    to compute the information content of the lookup_word.\n",
    "    \"\"\"\n",
    "    global N\n",
    "    if N == 0:\n",
    "        # poor man's lazy evaluation\n",
    "        for sent in brown.sents():\n",
    "            for word in sent:\n",
    "                word = word.lower()\n",
    "                if not brown_freqs.has_key(word):\n",
    "                    brown_freqs[word] = 0\n",
    "                brown_freqs[word] = brown_freqs[word] + 1\n",
    "                N = N + 1\n",
    "    lookup_word = lookup_word.lower()\n",
    "    n = 0 if not brown_freqs.has_key(lookup_word) else brown_freqs[lookup_word]\n",
    "    return 1.0 - (math.log(n + 1) / math.log(N + 1))\n",
    "    \n",
    "def semantic_vector(words, joint_words, info_content_norm):\n",
    "    \"\"\"\n",
    "    Computes the semantic vector of a sentence. The sentence is passed in as\n",
    "    a collection of words. The size of the semantic vector is the same as the\n",
    "    size of the joint word set. The elements are 1 if a word in the sentence\n",
    "    already exists in the joint word set, or the similarity of the word to the\n",
    "    most similar word in the joint word set if it doesn't. Both values are \n",
    "    further normalized by the word's (and similar word's) information content\n",
    "    if info_content_norm is True.\n",
    "    \"\"\"\n",
    "    sent_set = set(words)\n",
    "    semvec = np.zeros(len(joint_words))\n",
    "    i = 0\n",
    "    for joint_word in joint_words:\n",
    "        if joint_word in sent_set:\n",
    "            # if word in union exists in the sentence, s(i) = 1 (unnormalized)\n",
    "            semvec[i] = 1.0\n",
    "            if info_content_norm:\n",
    "                semvec[i] = semvec[i] * math.pow(info_content(joint_word), 2)\n",
    "        else:\n",
    "            # find the most similar word in the joint set and set the sim value\n",
    "            sim_word, max_sim = most_similar_word(joint_word, sent_set)\n",
    "            semvec[i] = max_sim if max_sim > PHI else 0.0\n",
    "            if info_content_norm:\n",
    "                semvec[i] = semvec[i] * info_content(joint_word) * info_content(sim_word)\n",
    "        i = i + 1\n",
    "    return semvec                \n",
    "            \n",
    "def semantic_similarity(sentence_1, sentence_2, info_content_norm):\n",
    "    \"\"\"\n",
    "    Computes the semantic similarity between two sentences as the cosine\n",
    "    similarity between the semantic vectors computed for each sentence.\n",
    "    \"\"\"\n",
    "    words_1 = nltk.word_tokenize(sentence_1)\n",
    "    words_2 = nltk.word_tokenize(sentence_2)\n",
    "    joint_words = set(words_1).union(set(words_2))\n",
    "    vec_1 = semantic_vector(words_1, joint_words, info_content_norm)\n",
    "    vec_2 = semantic_vector(words_2, joint_words, info_content_norm)\n",
    "    return np.dot(vec_1, vec_2.T) / (np.linalg.norm(vec_1) * np.linalg.norm(vec_2))\n",
    "\n",
    "######################### word order similarity ##########################\n",
    "\n",
    "def word_order_vector(words, joint_words, windex):\n",
    "    \"\"\"\n",
    "    Computes the word order vector for a sentence. The sentence is passed\n",
    "    in as a collection of words. The size of the word order vector is the\n",
    "    same as the size of the joint word set. The elements of the word order\n",
    "    vector are the position mapping (from the windex dictionary) of the \n",
    "    word in the joint set if the word exists in the sentence. If the word\n",
    "    does not exist in the sentence, then the value of the element is the \n",
    "    position of the most similar word in the sentence as long as the similarity\n",
    "    is above the threshold ETA.\n",
    "    \"\"\"\n",
    "    wovec = np.zeros(len(joint_words))\n",
    "    i = 0\n",
    "    wordset = set(words)\n",
    "    for joint_word in joint_words:\n",
    "        if joint_word in wordset:\n",
    "            # word in joint_words found in sentence, just populate the index\n",
    "            wovec[i] = windex[joint_word]\n",
    "        else:\n",
    "            # word not in joint_words, find most similar word and populate\n",
    "            # word_vector with the thresholded similarity\n",
    "            sim_word, max_sim = most_similar_word(joint_word, wordset)\n",
    "            if max_sim > ETA:\n",
    "                wovec[i] = windex[sim_word]\n",
    "            else:\n",
    "                wovec[i] = 0\n",
    "        i = i + 1\n",
    "    return wovec\n",
    "\n",
    "def word_order_similarity(sentence_1, sentence_2):\n",
    "    \"\"\"\n",
    "    Computes the word-order similarity between two sentences as the normalized\n",
    "    difference of word order between the two sentences.\n",
    "    \"\"\"\n",
    "    words_1 = nltk.word_tokenize(sentence_1)\n",
    "    words_2 = nltk.word_tokenize(sentence_2)\n",
    "    joint_words = list(set(words_1).union(set(words_2)))\n",
    "    windex = {x[1]: x[0] for x in enumerate(joint_words)}\n",
    "    r1 = word_order_vector(words_1, joint_words, windex)\n",
    "    r2 = word_order_vector(words_2, joint_words, windex)\n",
    "    return 1.0 - (np.linalg.norm(r1 - r2) / np.linalg.norm(r1 + r2))\n",
    "\n",
    "######################### overall similarity ##########################\n",
    "\n",
    "def similarity(sentence_1, sentence_2, info_content_norm):\n",
    "    \"\"\"\n",
    "    Calculate the semantic similarity between two sentences. The last \n",
    "    parameter is True or False depending on whether information content\n",
    "    normalization is desired or not.\n",
    "    \"\"\"\n",
    "    return DELTA * semantic_similarity(sentence_1, sentence_2, info_content_norm) + \\\n",
    "        (1.0 - DELTA) * word_order_similarity(sentence_1, sentence_2)\n",
    "        \n",
    "######################### main / test ##########################\n",
    "\n",
    "# the results of the algorithm are largely dependent on the results of \n",
    "# the word similarities, so we should test this first...\n",
    "word_pairs = [\n",
    "  [\"asylum\", \"fruit\", 0.21],\n",
    "  [\"autograph\", \"shore\", 0.29],\n",
    "  [\"autograph\", \"signature\", 0.55],\n",
    "  [\"automobile\", \"car\", 0.64],\n",
    "  [\"bird\", \"woodland\", 0.33],\n",
    "  [\"boy\", \"rooster\", 0.53],\n",
    "  [\"boy\", \"lad\", 0.66],\n",
    "  [\"boy\", \"sage\", 0.51],\n",
    "  [\"cemetery\", \"graveyard\", 0.73],\n",
    "  [\"coast\", \"forest\", 0.36],\n",
    "  [\"coast\", \"shore\", 0.76],\n",
    "  [\"cock\", \"rooster\", 1.00],\n",
    "  [\"cord\", \"smile\", 0.33],\n",
    "  [\"cord\", \"string\", 0.68],\n",
    "  [\"cushion\", \"pillow\", 0.66],\n",
    "  [\"forest\", \"graveyard\", 0.55],\n",
    "  [\"forest\", \"woodland\", 0.70],\n",
    "  [\"furnace\", \"stove\", 0.72],\n",
    "  [\"glass\", \"tumbler\", 0.65],\n",
    "  [\"grin\", \"smile\", 0.49],\n",
    "  [\"gem\", \"jewel\", 0.83],\n",
    "  [\"hill\", \"woodland\", 0.59],\n",
    "  [\"hill\", \"mound\", 0.74],\n",
    "  [\"implement\", \"tool\", 0.75],\n",
    "  [\"journey\", \"voyage\", 0.52],\n",
    "  [\"magician\", \"oracle\", 0.44],\n",
    "  [\"magician\", \"wizard\", 0.65],\n",
    "  [\"midday\", \"noon\", 1.0],\n",
    "  [\"oracle\", \"sage\", 0.43],\n",
    "  [\"serf\", \"slave\", 0.39]\n",
    "]\n",
    "for word_pair in word_pairs:\n",
    "    print \"%s\\t%s\\t%.2f\\t%.2f\" % (word_pair[0], word_pair[1], word_pair[2], \n",
    "                                  word_similarity(word_pair[0], word_pair[1]))\n",
    "\n",
    "sentence_pairs = [\n",
    "    [\"I like that bachelor.\", \"I like that unmarried man.\", 0.561],\n",
    "    [\"John is very nice.\", \"Is John very nice?\", 0.977],\n",
    "    [\"Red alcoholic drink.\", \"A bottle of wine.\", 0.585],\n",
    "    [\"Red alcoholic drink.\", \"Fresh orange juice.\", 0.611],\n",
    "    [\"Red alcoholic drink.\", \"An English dictionary.\", 0.0],\n",
    "    [\"Red alcoholic drink.\", \"Fresh apple juice.\", 0.420],\n",
    "    [\"A glass of cider.\", \"A full cup of apple juice.\", 0.678],\n",
    "    [\"It is a dog.\", \"That must be your dog.\", 0.739],\n",
    "    [\"It is a dog.\", \"It is a log.\", 0.623],\n",
    "    [\"It is a dog.\", \"It is a pig.\", 0.790],\n",
    "    [\"Dogs are animals.\", \"They are common pets.\", 0.738],\n",
    "    [\"Canis familiaris are animals.\", \"Dogs are common pets.\", 0.362],\n",
    "    [\"I have a pen.\", \"Where do you live?\", 0.0],\n",
    "    [\"I have a pen.\", \"Where is ink?\", 0.129],\n",
    "    [\"I have a hammer.\", \"Take some nails.\", 0.508],\n",
    "    [\"I have a hammer.\", \"Take some apples.\", 0.121]\n",
    "]\n",
    "for sent_pair in sentence_pairs:\n",
    "    print \"%s\\t%s\\t%.3f\\t%.3f\\t%.3f\" % (sent_pair[0], sent_pair[1], sent_pair[2], \n",
    "        similarity(sent_pair[0], sent_pair[1], False),\n",
    "        similarity(sent_pair[0], sent_pair[1], True))\n"
   ]
  }
 ],
 "metadata": {
  "kernelspec": {
   "display_name": "Python 3",
   "language": "python",
   "name": "python3"
  },
  "language_info": {
   "codemirror_mode": {
    "name": "ipython",
    "version": 3
   },
   "file_extension": ".py",
   "mimetype": "text/x-python",
   "name": "python",
   "nbconvert_exporter": "python",
   "pygments_lexer": "ipython3",
   "version": "3.6.2"
  }
 },
 "nbformat": 4,
 "nbformat_minor": 2
}
